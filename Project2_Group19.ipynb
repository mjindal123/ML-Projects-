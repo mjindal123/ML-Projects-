{
 "cells": [
  {
   "cell_type": "markdown",
   "metadata": {},
   "source": [
    "# Cardiac Arrhythmia Multy-Class Classification "
   ]
  },
  {
   "cell_type": "markdown",
   "metadata": {},
   "source": [
    "# Effort Table\n",
    "<br>Syed Omer Wajihuddin 100%\n",
    "<br>Mayank Jindal 100%"
   ]
  },
  {
   "cell_type": "markdown",
   "metadata": {},
   "source": [
    "# Data Loading and Cleaning"
   ]
  },
  {
   "cell_type": "code",
   "execution_count": 8,
   "metadata": {},
   "outputs": [
    {
     "name": "stderr",
     "output_type": "stream",
     "text": [
      "E:\\Anaconda\\lib\\site-packages\\ipykernel\\__main__.py:14: SettingWithCopyWarning: \n",
      "A value is trying to be set on a copy of a slice from a DataFrame\n",
      "\n",
      "See the caveats in the documentation: http://pandas.pydata.org/pandas-docs/stable/indexing.html#indexing-view-versus-copy\n",
      "E:\\Anaconda\\lib\\site-packages\\ipykernel\\__main__.py:19: SettingWithCopyWarning: \n",
      "A value is trying to be set on a copy of a slice from a DataFrame\n",
      "\n",
      "See the caveats in the documentation: http://pandas.pydata.org/pandas-docs/stable/indexing.html#indexing-view-versus-copy\n"
     ]
    }
   ],
   "source": [
    "import pandas as pd\n",
    "import numpy as np\n",
    "%matplotlib inline \n",
    "\n",
    "data = pd.read_csv('cardiac_arrhythmia.csv')\n",
    "data = data.replace('?',np.NaN)\n",
    "\n",
    "X = data.iloc[:,:-1]\n",
    "Y = data.iloc[:,-1]\n",
    "\n",
    "#Classes 11,12 and 13 have 0 instances so for simplicity sake we make classes 14,15,16 as 11,12 and 13 resp\n",
    "for i in range(0,452):\n",
    "    if (Y[i]>=14):\n",
    "         Y[i]=Y[i]-3\n",
    "\n",
    "## We are aggregating classes which have very few instances in 13th class\n",
    "for i in range(0,452):\n",
    "    if (Y[i]== 7 or Y[i] == 8):\n",
    "        Y[i] = 13\n",
    "\n",
    "############# To describe the data and check for missing values ####################\n",
    "\n",
    "X.describe().transpose()\n",
    "\n",
    "X.columns[X.isnull().any()].tolist() \n",
    "\n",
    "#Deleting the 14th column as it comprises mostly of null values\n",
    "del X['x14']\n"
   ]
  },
  {
   "cell_type": "markdown",
   "metadata": {},
   "source": [
    "# Imputation for missing values"
   ]
  },
  {
   "cell_type": "code",
   "execution_count": 9,
   "metadata": {},
   "outputs": [
    {
     "name": "stderr",
     "output_type": "stream",
     "text": [
      "Using TensorFlow backend.\n"
     ]
    },
    {
     "name": "stdout",
     "output_type": "stream",
     "text": [
      "Imputing row 1/452 with 0 missing, elapsed time: 0.261\n",
      "Imputing row 101/452 with 0 missing, elapsed time: 0.262\n",
      "Imputing row 201/452 with 1 missing, elapsed time: 0.262\n",
      "Imputing row 301/452 with 1 missing, elapsed time: 0.263\n",
      "Imputing row 401/452 with 0 missing, elapsed time: 0.264\n"
     ]
    },
    {
     "data": {
      "text/plain": [
       "[]"
      ]
     },
     "execution_count": 9,
     "metadata": {},
     "output_type": "execute_result"
    }
   ],
   "source": [
    "#Few of the columns have few missing values hence we need to impute them\n",
    "\n",
    "from fancyimpute import KNN\n",
    "X_filled_KNN = KNN(k=5).complete(X)\n",
    "X_filled_KNN = pd.DataFrame(X_filled_KNN)\n",
    "X_filled_KNN.describe().transpose()\n",
    "\n",
    "X_filled_KNN.describe().transpose()\n",
    "\n",
    "#To check if the final data is devoid of null values\n",
    "X_filled_KNN.columns[X_filled_KNN.isnull().any()].tolist()\n"
   ]
  },
  {
   "cell_type": "code",
   "execution_count": 2,
   "metadata": {},
   "outputs": [
    {
     "ename": "NameError",
     "evalue": "name 'pd' is not defined",
     "output_type": "error",
     "traceback": [
      "\u001b[1;31m---------------------------------------------------------------------------\u001b[0m",
      "\u001b[1;31mNameError\u001b[0m                                 Traceback (most recent call last)",
      "\u001b[1;32m<ipython-input-2-548a5efc9fd9>\u001b[0m in \u001b[0;36m<module>\u001b[1;34m()\u001b[0m\n\u001b[1;32m----> 1\u001b[1;33m \u001b[0mX_filled_KNN\u001b[0m\u001b[1;33m=\u001b[0m\u001b[0mpd\u001b[0m\u001b[1;33m.\u001b[0m\u001b[0mread_csv\u001b[0m\u001b[1;33m(\u001b[0m\u001b[1;34m'X_knn.csv'\u001b[0m\u001b[1;33m)\u001b[0m\u001b[1;33m\u001b[0m\u001b[0m\n\u001b[0m",
      "\u001b[1;31mNameError\u001b[0m: name 'pd' is not defined"
     ]
    }
   ],
   "source": []
  },
  {
   "cell_type": "markdown",
   "metadata": {},
   "source": [
    "# PCA Feature Selection"
   ]
  },
  {
   "cell_type": "code",
   "execution_count": 1,
   "metadata": {},
   "outputs": [
    {
     "ename": "NameError",
     "evalue": "name 'X_filled_KNN' is not defined",
     "output_type": "error",
     "traceback": [
      "\u001b[1;31m---------------------------------------------------------------------------\u001b[0m",
      "\u001b[1;31mNameError\u001b[0m                                 Traceback (most recent call last)",
      "\u001b[1;32m<ipython-input-1-6cc1d8a996cf>\u001b[0m in \u001b[0;36m<module>\u001b[1;34m()\u001b[0m\n\u001b[0;32m      5\u001b[0m \u001b[1;33m\u001b[0m\u001b[0m\n\u001b[0;32m      6\u001b[0m \u001b[0mpca\u001b[0m \u001b[1;33m=\u001b[0m \u001b[0mPCA\u001b[0m\u001b[1;33m(\u001b[0m\u001b[1;33m)\u001b[0m\u001b[1;33m\u001b[0m\u001b[0m\n\u001b[1;32m----> 7\u001b[1;33m \u001b[0mpca\u001b[0m\u001b[1;33m.\u001b[0m\u001b[0mfit\u001b[0m\u001b[1;33m(\u001b[0m\u001b[0mX_filled_KNN\u001b[0m\u001b[1;33m)\u001b[0m\u001b[1;33m\u001b[0m\u001b[0m\n\u001b[0m\u001b[0;32m      8\u001b[0m \u001b[0mcumsum\u001b[0m \u001b[1;33m=\u001b[0m \u001b[0mnp\u001b[0m\u001b[1;33m.\u001b[0m\u001b[0mcumsum\u001b[0m\u001b[1;33m(\u001b[0m\u001b[0mpca\u001b[0m\u001b[1;33m.\u001b[0m\u001b[0mexplained_variance_ratio_\u001b[0m\u001b[1;33m)\u001b[0m\u001b[1;33m\u001b[0m\u001b[0m\n\u001b[0;32m      9\u001b[0m \u001b[0md\u001b[0m \u001b[1;33m=\u001b[0m \u001b[0mnp\u001b[0m\u001b[1;33m.\u001b[0m\u001b[0margmax\u001b[0m\u001b[1;33m(\u001b[0m\u001b[0mcumsum\u001b[0m \u001b[1;33m>=\u001b[0m \u001b[1;36m0.98\u001b[0m\u001b[1;33m)\u001b[0m \u001b[1;33m+\u001b[0m \u001b[1;36m1\u001b[0m\u001b[1;33m\u001b[0m\u001b[0m\n",
      "\u001b[1;31mNameError\u001b[0m: name 'X_filled_KNN' is not defined"
     ]
    }
   ],
   "source": [
    "# We are trying to find the number of principal components which will explain atleast 95% of the variance in \n",
    "# the X varaibles s\n",
    "\n",
    "from sklearn.decomposition import PCA\n",
    "\n",
    "pca = PCA()\n",
    "pca.fit(X_filled_KNN)\n",
    "cumsum = np.cumsum(pca.explained_variance_ratio_)\n",
    "d = np.argmax(cumsum >= 0.98) + 1\n",
    "\n",
    "pca = PCA(n_components=0.98)\n",
    "X_filled_KNN_pca = pca.fit_transform(X_filled_KNN)\n",
    "\n",
    "print(\"Number of PCA components : {}\".format(pca.n_components_))\n",
    "print(\"Explained Variance : {:.2f}\".format(np.sum(pca.explained_variance_ratio_)))\n"
   ]
  },
  {
   "cell_type": "markdown",
   "metadata": {},
   "source": [
    "# Train Test Split and Feature Scaling"
   ]
  },
  {
   "cell_type": "code",
   "execution_count": 11,
   "metadata": {
    "collapsed": true
   },
   "outputs": [],
   "source": [
    "from sklearn.model_selection import train_test_split\n",
    "X_train,X_test,Y_train,Y_test = train_test_split(X_filled_KNN,Y,test_size = 0.2,random_state = 1)\n",
    "X_train_pca,X_test_pca = train_test_split(X_filled_KNN_pca,test_size = 0.2,random_state = 1)\n",
    "\n",
    "\n",
    "#################################### Feature Scaling ###########################################\n",
    "\n",
    "#When all the variables are not in the same scale, it is often the case that the model doesnt \n",
    "#learn well from these features.\n",
    "#Hence we need to ensure that all the variables are in the same scale. \n",
    "#In our case we use the min_max_scaling method\n",
    "\n",
    "from sklearn.preprocessing import MinMaxScaler\n",
    "sc = MinMaxScaler()\n",
    "X_train = sc.fit_transform(X_train)\n",
    "X_test = sc.transform(X_test) \n",
    "X_train_pca = sc.fit_transform(X_train_pca)\n",
    "X_test_pca = sc.transform(X_test_pca) \n"
   ]
  },
  {
   "cell_type": "markdown",
   "metadata": {},
   "source": [
    "# KNN Classifier with All methods"
   ]
  },
  {
   "cell_type": "code",
   "execution_count": 12,
   "metadata": {},
   "outputs": [
    {
     "data": {
      "image/png": "[encoded data removed]",
      "text/plain": [
       "<matplotlib.figure.Figure at 0xfa67b38>"
      ]
     },
     "metadata": {},
     "output_type": "display_data"
    },
    {
     "name": "stdout",
     "output_type": "stream",
     "text": [
      "Cross Validation Score 0.6154\n",
      "Accuracy of Training: 0.60\n",
      "Recall: 0.60440\n",
      "Accuracy: 0.60\n",
      "             precision    recall  f1-score   support\n",
      "\n",
      "          1       0.59      1.00      0.74        52\n",
      "          2       1.00      0.12      0.22         8\n",
      "          3       1.00      0.25      0.40         4\n",
      "          4       1.00      1.00      1.00         1\n",
      "          5       0.00      0.00      0.00         2\n",
      "          6       0.00      0.00      0.00         3\n",
      "          9       0.00      0.00      0.00         2\n",
      "         10       0.00      0.00      0.00        10\n",
      "         11       0.00      0.00      0.00         2\n",
      "         13       0.00      0.00      0.00         7\n",
      "\n",
      "avg / total       0.48      0.60      0.47        91\n",
      "\n"
     ]
    },
    {
     "name": "stderr",
     "output_type": "stream",
     "text": [
      "E:\\Anaconda\\lib\\site-packages\\sklearn\\metrics\\classification.py:1135: UndefinedMetricWarning: Precision and F-score are ill-defined and being set to 0.0 in labels with no predicted samples.\n",
      "  'precision', 'predicted', average, warn_for)\n"
     ]
    },
    {
     "data": {
      "image/png": "[encoded data removed]",
      "text/plain": [
       "<matplotlib.figure.Figure at 0xfa2df98>"
      ]
     },
     "metadata": {},
     "output_type": "display_data"
    },
    {
     "name": "stdout",
     "output_type": "stream",
     "text": [
      "Cross Validation Score 0.6084\n"
     ]
    }
   ],
   "source": [
    "##### Without pca\n",
    "\n",
    "from sklearn.neighbors import KNeighborsClassifier\n",
    "import matplotlib.pyplot as plt\n",
    "k_range = range(1,20)\n",
    "scores = []\n",
    "\n",
    "for k in k_range:\n",
    "    knn = KNeighborsClassifier(n_neighbors = k)\n",
    "    knn.fit(X_train, Y_train)\n",
    "    scores.append(knn.score(X_test, Y_test))\n",
    "\n",
    "plt.figure()\n",
    "plt.xlabel('k')\n",
    "plt.ylabel('accuracy')\n",
    "plt.scatter(k_range, scores)\n",
    "plt.xticks([0,5,10,15,20]);\n",
    "plt.show()\n",
    "\n",
    "\n",
    "from sklearn.neighbors import KNeighborsClassifier\n",
    "knn = KNeighborsClassifier(n_neighbors = 3)\n",
    "knn.fit(X_train,Y_train)\n",
    "knn.score(X_test, Y_test)\n",
    "\n",
    "\n",
    "from sklearn.model_selection import cross_val_score\n",
    "from  sklearn.model_selection import StratifiedKFold\n",
    "scores_knn = cross_val_score(knn,X_filled_KNN,Y,cv=StratifiedKFold(4,shuffle = True,random_state = 1))\n",
    "\n",
    "print('Cross Validation Score {:.4f}'.format(np.mean(scores_knn)))\n",
    "\n",
    "\n",
    "\n",
    "###### Bagging Method\n",
    "\n",
    "from sklearn.ensemble import BaggingClassifier\n",
    "from sklearn.neighbors import KNeighborsClassifier\n",
    "\n",
    "bag_clf_knn = BaggingClassifier(\n",
    "    KNeighborsClassifier(n_neighbors = 3),\n",
    "    bootstrap=True, n_jobs=-1, n_estimators=500, max_samples=100, random_state=1)\n",
    "\n",
    "bag_clf_knn.fit(X_train, Y_train)\n",
    "\n",
    "print('Accuracy of Training: {:.2f}'.format(bag_clf_knn.score(X_train, Y_train)))\n",
    "\n",
    "from sklearn.metrics import recall_score, accuracy_score\n",
    "\n",
    "y_predict_dt_bag = bag_clf_knn.predict(X_test)\n",
    "print('Recall: {:.5f}'.format(recall_score(Y_test, y_predict_dt_bag, average=\"weighted\")))\n",
    "print('Accuracy: {:.2f}'.format(accuracy_score(Y_test, y_predict_dt_bag)))\n",
    "\n",
    "from sklearn.metrics import classification_report\n",
    "\n",
    "print(classification_report(Y_test, y_predict_dt_bag))\n",
    "\n",
    "\n",
    "\n",
    "\n",
    "##### With PCA\n",
    "\n",
    "from sklearn.neighbors import KNeighborsClassifier\n",
    "import matplotlib.pyplot as plt\n",
    "k_range = range(1,20)\n",
    "scores = []\n",
    "\n",
    "for k in k_range:\n",
    "    knn = KNeighborsClassifier(n_neighbors = k)\n",
    "    knn.fit(X_train_pca, Y_train)\n",
    "    scores.append(knn.score(X_test_pca, Y_test))\n",
    "\n",
    "plt.figure()\n",
    "plt.xlabel('k')\n",
    "plt.ylabel('accuracy')\n",
    "plt.scatter(k_range, scores)\n",
    "plt.xticks([0,5,10,15,20]);\n",
    "plt.show()\n",
    "\n",
    "\n",
    "from sklearn.neighbors import KNeighborsClassifier\n",
    "knn_pca = KNeighborsClassifier(n_neighbors = 5)\n",
    "knn_pca.fit(X_train_pca,Y_train)\n",
    "knn_pca.score(X_test_pca, Y_test)\n",
    "\n",
    "\n",
    "from sklearn.model_selection import cross_val_score\n",
    "from  sklearn.model_selection import StratifiedKFold\n",
    "scores_knn_pca = cross_val_score(knn_pca,X_filled_KNN_pca,Y,cv=StratifiedKFold(4,shuffle = True,random_state = 1))\n",
    "\n",
    "print('Cross Validation Score {:.4f}'.format(np.mean(scores_knn_pca)))\n"
   ]
  },
  {
   "cell_type": "markdown",
   "metadata": {},
   "source": [
    "# Decision Tree Classifier"
   ]
  },
  {
   "cell_type": "code",
   "execution_count": 15,
   "metadata": {},
   "outputs": [
    {
     "name": "stderr",
     "output_type": "stream",
     "text": [
      "E:\\Anaconda\\lib\\site-packages\\sklearn\\model_selection\\_split.py:605: Warning: The least populated class in y has only 2 members, which is too few. The minimum number of members in any class cannot be less than n_splits=4.\n",
      "  % (min_groups, self.n_splits)), Warning)\n"
     ]
    },
    {
     "name": "stdout",
     "output_type": "stream",
     "text": [
      "Best parameters{'max_depth': 5}\n",
      "\n",
      "Best score 0.68\n",
      "\n"
     ]
    },
    {
     "name": "stderr",
     "output_type": "stream",
     "text": [
      "E:\\Anaconda\\lib\\site-packages\\sklearn\\model_selection\\_split.py:605: Warning: The least populated class in y has only 2 members, which is too few. The minimum number of members in any class cannot be less than n_splits=4.\n",
      "  % (min_groups, self.n_splits)), Warning)\n",
      "E:\\Anaconda\\lib\\site-packages\\sklearn\\model_selection\\_split.py:605: Warning: The least populated class in y has only 2 members, which is too few. The minimum number of members in any class cannot be less than n_splits=4.\n",
      "  % (min_groups, self.n_splits)), Warning)\n",
      "E:\\Anaconda\\lib\\site-packages\\sklearn\\model_selection\\_split.py:605: Warning: The least populated class in y has only 2 members, which is too few. The minimum number of members in any class cannot be less than n_splits=4.\n",
      "  % (min_groups, self.n_splits)), Warning)\n",
      "E:\\Anaconda\\lib\\site-packages\\sklearn\\model_selection\\_split.py:605: Warning: The least populated class in y has only 1 members, which is too few. The minimum number of members in any class cannot be less than n_splits=4.\n",
      "  % (min_groups, self.n_splits)), Warning)\n",
      "E:\\Anaconda\\lib\\site-packages\\sklearn\\model_selection\\_split.py:605: Warning: The least populated class in y has only 1 members, which is too few. The minimum number of members in any class cannot be less than n_splits=4.\n",
      "  % (min_groups, self.n_splits)), Warning)\n",
      "E:\\Anaconda\\lib\\site-packages\\sklearn\\model_selection\\_split.py:605: Warning: The least populated class in y has only 1 members, which is too few. The minimum number of members in any class cannot be less than n_splits=4.\n",
      "  % (min_groups, self.n_splits)), Warning)\n",
      "E:\\Anaconda\\lib\\site-packages\\sklearn\\model_selection\\_split.py:605: Warning: The least populated class in y has only 1 members, which is too few. The minimum number of members in any class cannot be less than n_splits=4.\n",
      "  % (min_groups, self.n_splits)), Warning)\n",
      "E:\\Anaconda\\lib\\site-packages\\sklearn\\model_selection\\_split.py:605: Warning: The least populated class in y has only 1 members, which is too few. The minimum number of members in any class cannot be less than n_splits=4.\n",
      "  % (min_groups, self.n_splits)), Warning)\n",
      "E:\\Anaconda\\lib\\site-packages\\sklearn\\model_selection\\_split.py:605: Warning: The least populated class in y has only 1 members, which is too few. The minimum number of members in any class cannot be less than n_splits=4.\n",
      "  % (min_groups, self.n_splits)), Warning)\n",
      "E:\\Anaconda\\lib\\site-packages\\sklearn\\model_selection\\_split.py:605: Warning: The least populated class in y has only 1 members, which is too few. The minimum number of members in any class cannot be less than n_splits=4.\n",
      "  % (min_groups, self.n_splits)), Warning)\n"
     ]
    },
    {
     "name": "stdout",
     "output_type": "stream",
     "text": [
      "Train Cross Validation Score 0.67\n",
      "\n",
      "Test Cross Validation Score 0.66\n",
      "\n",
      "Cancer dataset (learning_rate=0.01, max_depth=2)\n",
      "Accuracy of GBDT classifier on training set: 0.89\n",
      "Accuracy of GBDT classifier on test set: 0.81\n",
      "Accuracy of Training: 0.85\n",
      "Recall: 0.78022\n",
      "Accuracy: 0.78\n",
      "             precision    recall  f1-score   support\n",
      "\n",
      "          1       0.78      0.98      0.87        52\n",
      "          2       0.67      0.75      0.71         8\n",
      "          3       0.80      1.00      0.89         4\n",
      "          4       1.00      1.00      1.00         1\n",
      "          5       0.00      0.00      0.00         2\n",
      "          6       0.75      1.00      0.86         3\n",
      "          9       1.00      0.50      0.67         2\n",
      "         10       0.83      0.50      0.62        10\n",
      "         11       0.00      0.00      0.00         2\n",
      "         13       0.00      0.00      0.00         7\n",
      "\n",
      "avg / total       0.69      0.78      0.72        91\n",
      "\n"
     ]
    },
    {
     "name": "stderr",
     "output_type": "stream",
     "text": [
      "E:\\Anaconda\\lib\\site-packages\\sklearn\\metrics\\classification.py:1135: UndefinedMetricWarning: Precision and F-score are ill-defined and being set to 0.0 in labels with no predicted samples.\n",
      "  'precision', 'predicted', average, warn_for)\n"
     ]
    },
    {
     "name": "stdout",
     "output_type": "stream",
     "text": [
      "Accuracy of Training: 1.00\n",
      "Recall: 0.72527\n",
      "Accuracy: 0.73\n",
      "             precision    recall  f1-score   support\n",
      "\n",
      "          1       0.68      0.96      0.80        52\n",
      "          2       1.00      0.38      0.55         8\n",
      "          3       1.00      1.00      1.00         4\n",
      "          4       1.00      1.00      1.00         1\n",
      "          5       0.00      0.00      0.00         2\n",
      "          6       1.00      0.33      0.50         3\n",
      "          9       1.00      0.50      0.67         2\n",
      "         10       0.75      0.60      0.67        10\n",
      "         11       0.00      0.00      0.00         2\n",
      "         13       0.00      0.00      0.00         7\n",
      "\n",
      "avg / total       0.67      0.73      0.66        91\n",
      "\n"
     ]
    },
    {
     "name": "stderr",
     "output_type": "stream",
     "text": [
      "E:\\Anaconda\\lib\\site-packages\\sklearn\\metrics\\classification.py:1135: UndefinedMetricWarning: Precision and F-score are ill-defined and being set to 0.0 in labels with no predicted samples.\n",
      "  'precision', 'predicted', average, warn_for)\n",
      "E:\\Anaconda\\lib\\site-packages\\sklearn\\model_selection\\_split.py:605: Warning: The least populated class in y has only 2 members, which is too few. The minimum number of members in any class cannot be less than n_splits=4.\n",
      "  % (min_groups, self.n_splits)), Warning)\n"
     ]
    },
    {
     "name": "stdout",
     "output_type": "stream",
     "text": [
      "Best parameters{'max_depth': 5}\n",
      "\n",
      "Best score 0.55\n",
      "\n"
     ]
    },
    {
     "name": "stderr",
     "output_type": "stream",
     "text": [
      "E:\\Anaconda\\lib\\site-packages\\sklearn\\model_selection\\_split.py:605: Warning: The least populated class in y has only 2 members, which is too few. The minimum number of members in any class cannot be less than n_splits=4.\n",
      "  % (min_groups, self.n_splits)), Warning)\n",
      "E:\\Anaconda\\lib\\site-packages\\sklearn\\model_selection\\_split.py:605: Warning: The least populated class in y has only 2 members, which is too few. The minimum number of members in any class cannot be less than n_splits=4.\n",
      "  % (min_groups, self.n_splits)), Warning)\n",
      "E:\\Anaconda\\lib\\site-packages\\sklearn\\model_selection\\_split.py:605: Warning: The least populated class in y has only 2 members, which is too few. The minimum number of members in any class cannot be less than n_splits=4.\n",
      "  % (min_groups, self.n_splits)), Warning)\n",
      "E:\\Anaconda\\lib\\site-packages\\sklearn\\model_selection\\_split.py:605: Warning: The least populated class in y has only 1 members, which is too few. The minimum number of members in any class cannot be less than n_splits=4.\n",
      "  % (min_groups, self.n_splits)), Warning)\n",
      "E:\\Anaconda\\lib\\site-packages\\sklearn\\model_selection\\_split.py:605: Warning: The least populated class in y has only 1 members, which is too few. The minimum number of members in any class cannot be less than n_splits=4.\n",
      "  % (min_groups, self.n_splits)), Warning)\n",
      "E:\\Anaconda\\lib\\site-packages\\sklearn\\model_selection\\_split.py:605: Warning: The least populated class in y has only 1 members, which is too few. The minimum number of members in any class cannot be less than n_splits=4.\n",
      "  % (min_groups, self.n_splits)), Warning)\n",
      "E:\\Anaconda\\lib\\site-packages\\sklearn\\model_selection\\_split.py:605: Warning: The least populated class in y has only 1 members, which is too few. The minimum number of members in any class cannot be less than n_splits=4.\n",
      "  % (min_groups, self.n_splits)), Warning)\n",
      "E:\\Anaconda\\lib\\site-packages\\sklearn\\model_selection\\_split.py:605: Warning: The least populated class in y has only 1 members, which is too few. The minimum number of members in any class cannot be less than n_splits=4.\n",
      "  % (min_groups, self.n_splits)), Warning)\n",
      "E:\\Anaconda\\lib\\site-packages\\sklearn\\model_selection\\_split.py:605: Warning: The least populated class in y has only 1 members, which is too few. The minimum number of members in any class cannot be less than n_splits=4.\n",
      "  % (min_groups, self.n_splits)), Warning)\n"
     ]
    },
    {
     "name": "stdout",
     "output_type": "stream",
     "text": [
      "Train Cross Validation Score 0.55\n",
      "\n",
      "Test Cross Validation Score 0.48\n",
      "\n"
     ]
    },
    {
     "name": "stderr",
     "output_type": "stream",
     "text": [
      "E:\\Anaconda\\lib\\site-packages\\sklearn\\model_selection\\_split.py:605: Warning: The least populated class in y has only 1 members, which is too few. The minimum number of members in any class cannot be less than n_splits=4.\n",
      "  % (min_groups, self.n_splits)), Warning)\n"
     ]
    }
   ],
   "source": [
    "##### Without pca\n",
    "\n",
    "from sklearn.tree import DecisionTreeClassifier\n",
    "from sklearn.model_selection import GridSearchCV\n",
    "dt_clf = DecisionTreeClassifier()\n",
    "param_grid_dt = {'max_depth': [5, 10, 20, 50, 100]}\n",
    "grid_search_dt = GridSearchCV(dt_clf,param_grid_dt,cv=StratifiedKFold(4,shuffle = True,random_state = 1))\n",
    "grid_search_dt.fit(X_train, Y_train)   \n",
    "\n",
    "dt_preds = grid_search_dt.predict(X_test)          \n",
    "\n",
    "print('Best parameters{}\\n'.format(grid_search_dt.best_params_))\n",
    "print('Best score {:.2f}\\n'.format(grid_search_dt.best_score_))\n",
    "\n",
    "\n",
    "from sklearn.model_selection import cross_val_score\n",
    "scores_dt_train = cross_val_score(grid_search_dt,X_train,Y_train,cv=StratifiedKFold(4,shuffle = True,random_state = 1))\n",
    "scores_dt_test = cross_val_score(grid_search_dt,X_test,Y_test,cv=StratifiedKFold(4,shuffle = True,random_state = 1))\n",
    "print('Train Cross Validation Score {:.2f}\\n'.format(np.mean(scores_dt_train)))\n",
    "print('Test Cross Validation Score {:.2f}\\n'.format(np.mean(scores_dt_test)))\n",
    "\n",
    "\n",
    "##### Gradient Boosted Decision Tree\n",
    "\n",
    "from sklearn.ensemble import GradientBoostingClassifier\n",
    "gb_dt = GradientBoostingClassifier(learning_rate = 0.01, max_depth = 2, random_state = 1)\n",
    "gb_dt.fit(X_train, Y_train)\n",
    "\n",
    "print('Cancer dataset (learning_rate=0.01, max_depth=2)')\n",
    "print('Accuracy of GBDT classifier on training set: {:.2f}'\n",
    "     .format(gb_dt.score(X_train, Y_train)))\n",
    "print('Accuracy of GBDT classifier on test set: {:.2f}'\n",
    "     .format(gb_dt.score(X_test, Y_test)))\n",
    "\n",
    "\n",
    "###### Bagging Method\n",
    "\n",
    "from sklearn.ensemble import BaggingClassifier\n",
    "from sklearn.tree import DecisionTreeClassifier\n",
    "\n",
    "bag_clf_dt = BaggingClassifier(\n",
    "    DecisionTreeClassifier(max_depth = 7),\n",
    "    bootstrap=True, n_jobs=-1, n_estimators=500, max_samples=100, random_state=1)\n",
    "\n",
    "bag_clf_dt.fit(X_train, Y_train)\n",
    "\n",
    "print('Accuracy of Training: {:.2f}'.format(bag_clf_dt.score(X_train, Y_train)))\n",
    "\n",
    "from sklearn.metrics import recall_score, accuracy_score\n",
    "\n",
    "y_predict_dt_bag = bag_clf_dt.predict(X_test)\n",
    "print('Recall: {:.5f}'.format(recall_score(Y_test, y_predict_dt_bag, average=\"weighted\")))\n",
    "print('Accuracy: {:.2f}'.format(accuracy_score(Y_test, y_predict_dt_bag)))\n",
    "\n",
    "from sklearn.metrics import classification_report\n",
    "\n",
    "print(classification_report(Y_test, y_predict_dt_bag))\n",
    "\n",
    "\n",
    "##### With AdaBoost\n",
    "\n",
    "from sklearn.ensemble import AdaBoostClassifier\n",
    "from sklearn.tree import DecisionTreeClassifier\n",
    "ada_clf_dt = AdaBoostClassifier(\n",
    "    DecisionTreeClassifier(max_depth = 5),\n",
    "    n_estimators=200,\n",
    "    algorithm=\"SAMME.R\", learning_rate=0.5, random_state=1)\n",
    "ada_clf_dt.fit(X_train, Y_train)\n",
    "\n",
    "print('Accuracy of Training: {:.2f}'.format(ada_clf_dt.score(X_train, Y_train)))\n",
    "\n",
    "from sklearn.metrics import recall_score, accuracy_score\n",
    "\n",
    "y_predict_dt = ada_clf_dt.predict(X_test)\n",
    "print('Recall: {:.5f}'.format(recall_score(Y_test, y_predict_dt, average=\"weighted\")))\n",
    "print('Accuracy: {:.2f}'.format(accuracy_score(Y_test, y_predict_dt)))\n",
    "\n",
    "from sklearn.metrics import classification_report\n",
    "\n",
    "print(classification_report(Y_test, y_predict_dt))\n",
    "\n",
    "\n",
    "\n",
    "\n",
    "##### With pca\n",
    "\n",
    "from sklearn.tree import DecisionTreeClassifier\n",
    "dt_clf = DecisionTreeClassifier()\n",
    "param_grid_dt = {'max_depth': [5, 10, 20, 50, 100]}\n",
    "grid_search_dt_pca = GridSearchCV(dt_clf,param_grid_dt,cv=StratifiedKFold(4,shuffle = True,random_state = 1))\n",
    "grid_search_dt_pca.fit(X_train_pca, Y_train)   \n",
    "\n",
    "dt_preds_pca = grid_search_dt_pca.predict(X_test_pca)          \n",
    "\n",
    "print('Best parameters{}\\n'.format(grid_search_dt_pca.best_params_))\n",
    "print('Best score {:.2f}\\n'.format(grid_search_dt_pca.best_score_))\n",
    "\n",
    "from sklearn.model_selection import cross_val_score\n",
    "scores_dt_train = cross_val_score(grid_search_dt_pca,X_train_pca,Y_train,cv=StratifiedKFold(4,shuffle = True,random_state = 1))\n",
    "scores_dt_test = cross_val_score(grid_search_dt_pca,X_test_pca,Y_test,cv=StratifiedKFold(4,shuffle = True,random_state = 1))\n",
    "print('Train Cross Validation Score {:.2f}\\n'.format(np.mean(scores_dt_train)))\n",
    "print('Test Cross Validation Score {:.2f}\\n'.format(np.mean(scores_dt_test)))\n",
    "\n"
   ]
  },
  {
   "cell_type": "markdown",
   "metadata": {},
   "source": [
    "# Logistic Regression"
   ]
  },
  {
   "cell_type": "code",
   "execution_count": 16,
   "metadata": {},
   "outputs": [
    {
     "name": "stderr",
     "output_type": "stream",
     "text": [
      "E:\\Anaconda\\lib\\site-packages\\sklearn\\model_selection\\_split.py:605: Warning: The least populated class in y has only 2 members, which is too few. The minimum number of members in any class cannot be less than n_splits=4.\n",
      "  % (min_groups, self.n_splits)), Warning)\n"
     ]
    },
    {
     "name": "stdout",
     "output_type": "stream",
     "text": [
      "Best parameters{'penalty': 'l1'}\n",
      "\n",
      "Best score 0.69\n",
      "\n"
     ]
    },
    {
     "name": "stderr",
     "output_type": "stream",
     "text": [
      "E:\\Anaconda\\lib\\site-packages\\sklearn\\model_selection\\_split.py:605: Warning: The least populated class in y has only 2 members, which is too few. The minimum number of members in any class cannot be less than n_splits=4.\n",
      "  % (min_groups, self.n_splits)), Warning)\n",
      "E:\\Anaconda\\lib\\site-packages\\sklearn\\model_selection\\_split.py:605: Warning: The least populated class in y has only 2 members, which is too few. The minimum number of members in any class cannot be less than n_splits=4.\n",
      "  % (min_groups, self.n_splits)), Warning)\n",
      "E:\\Anaconda\\lib\\site-packages\\sklearn\\model_selection\\_split.py:605: Warning: The least populated class in y has only 2 members, which is too few. The minimum number of members in any class cannot be less than n_splits=4.\n",
      "  % (min_groups, self.n_splits)), Warning)\n",
      "E:\\Anaconda\\lib\\site-packages\\sklearn\\model_selection\\_split.py:605: Warning: The least populated class in y has only 1 members, which is too few. The minimum number of members in any class cannot be less than n_splits=4.\n",
      "  % (min_groups, self.n_splits)), Warning)\n",
      "E:\\Anaconda\\lib\\site-packages\\sklearn\\model_selection\\_split.py:605: Warning: The least populated class in y has only 1 members, which is too few. The minimum number of members in any class cannot be less than n_splits=4.\n",
      "  % (min_groups, self.n_splits)), Warning)\n",
      "E:\\Anaconda\\lib\\site-packages\\sklearn\\model_selection\\_split.py:605: Warning: The least populated class in y has only 1 members, which is too few. The minimum number of members in any class cannot be less than n_splits=4.\n",
      "  % (min_groups, self.n_splits)), Warning)\n",
      "E:\\Anaconda\\lib\\site-packages\\sklearn\\model_selection\\_split.py:605: Warning: The least populated class in y has only 1 members, which is too few. The minimum number of members in any class cannot be less than n_splits=4.\n",
      "  % (min_groups, self.n_splits)), Warning)\n",
      "E:\\Anaconda\\lib\\site-packages\\sklearn\\model_selection\\_split.py:605: Warning: The least populated class in y has only 1 members, which is too few. The minimum number of members in any class cannot be less than n_splits=4.\n",
      "  % (min_groups, self.n_splits)), Warning)\n",
      "E:\\Anaconda\\lib\\site-packages\\sklearn\\model_selection\\_split.py:605: Warning: The least populated class in y has only 1 members, which is too few. The minimum number of members in any class cannot be less than n_splits=4.\n",
      "  % (min_groups, self.n_splits)), Warning)\n",
      "E:\\Anaconda\\lib\\site-packages\\sklearn\\model_selection\\_split.py:605: Warning: The least populated class in y has only 1 members, which is too few. The minimum number of members in any class cannot be less than n_splits=4.\n",
      "  % (min_groups, self.n_splits)), Warning)\n"
     ]
    },
    {
     "name": "stdout",
     "output_type": "stream",
     "text": [
      "Train Cross Validation Score 0.68\n",
      "\n",
      "Test Cross Validation Score 0.59\n",
      "\n",
      "Accuracy of Training: 0.73\n",
      "Recall: 0.73626\n",
      "Accuracy: 0.74\n",
      "             precision    recall  f1-score   support\n",
      "\n",
      "          1       0.79      0.92      0.85        52\n",
      "          2       0.83      0.62      0.71         8\n",
      "          3       1.00      1.00      1.00         4\n",
      "          4       1.00      1.00      1.00         1\n",
      "          5       0.00      0.00      0.00         2\n",
      "          6       0.00      0.00      0.00         3\n",
      "          9       1.00      0.50      0.67         2\n",
      "         10       0.60      0.60      0.60        10\n",
      "         11       0.00      0.00      0.00         2\n",
      "         13       0.25      0.29      0.27         7\n",
      "\n",
      "avg / total       0.68      0.74      0.70        91\n",
      "\n"
     ]
    },
    {
     "name": "stderr",
     "output_type": "stream",
     "text": [
      "E:\\Anaconda\\lib\\site-packages\\sklearn\\metrics\\classification.py:1135: UndefinedMetricWarning: Precision and F-score are ill-defined and being set to 0.0 in labels with no predicted samples.\n",
      "  'precision', 'predicted', average, warn_for)\n"
     ]
    },
    {
     "name": "stdout",
     "output_type": "stream",
     "text": [
      "Accuracy of Training: 0.74\n",
      "Recall: 0.73626\n",
      "Accuracy: 0.74\n",
      "             precision    recall  f1-score   support\n",
      "\n",
      "          1       0.68      1.00      0.81        52\n",
      "          2       1.00      0.50      0.67         8\n",
      "          3       1.00      1.00      1.00         4\n",
      "          4       1.00      1.00      1.00         1\n",
      "          5       0.00      0.00      0.00         2\n",
      "          6       0.00      0.00      0.00         3\n",
      "          9       1.00      0.50      0.67         2\n",
      "         10       1.00      0.50      0.67        10\n",
      "         11       0.00      0.00      0.00         2\n",
      "         13       0.00      0.00      0.00         7\n",
      "\n",
      "avg / total       0.67      0.74      0.67        91\n",
      "\n",
      "Best parameters{'penalty': 'l1'}\n",
      "\n",
      "Best score 0.57\n",
      "\n"
     ]
    },
    {
     "name": "stderr",
     "output_type": "stream",
     "text": [
      "E:\\Anaconda\\lib\\site-packages\\sklearn\\model_selection\\_split.py:605: Warning: The least populated class in y has only 2 members, which is too few. The minimum number of members in any class cannot be less than n_splits=4.\n",
      "  % (min_groups, self.n_splits)), Warning)\n",
      "E:\\Anaconda\\lib\\site-packages\\sklearn\\model_selection\\_split.py:605: Warning: The least populated class in y has only 2 members, which is too few. The minimum number of members in any class cannot be less than n_splits=4.\n",
      "  % (min_groups, self.n_splits)), Warning)\n",
      "E:\\Anaconda\\lib\\site-packages\\sklearn\\model_selection\\_split.py:605: Warning: The least populated class in y has only 2 members, which is too few. The minimum number of members in any class cannot be less than n_splits=4.\n",
      "  % (min_groups, self.n_splits)), Warning)\n",
      "E:\\Anaconda\\lib\\site-packages\\sklearn\\model_selection\\_split.py:605: Warning: The least populated class in y has only 2 members, which is too few. The minimum number of members in any class cannot be less than n_splits=4.\n",
      "  % (min_groups, self.n_splits)), Warning)\n",
      "E:\\Anaconda\\lib\\site-packages\\sklearn\\model_selection\\_split.py:605: Warning: The least populated class in y has only 1 members, which is too few. The minimum number of members in any class cannot be less than n_splits=4.\n",
      "  % (min_groups, self.n_splits)), Warning)\n",
      "E:\\Anaconda\\lib\\site-packages\\sklearn\\model_selection\\_split.py:605: Warning: The least populated class in y has only 1 members, which is too few. The minimum number of members in any class cannot be less than n_splits=4.\n",
      "  % (min_groups, self.n_splits)), Warning)\n",
      "E:\\Anaconda\\lib\\site-packages\\sklearn\\model_selection\\_split.py:605: Warning: The least populated class in y has only 1 members, which is too few. The minimum number of members in any class cannot be less than n_splits=4.\n",
      "  % (min_groups, self.n_splits)), Warning)\n",
      "E:\\Anaconda\\lib\\site-packages\\sklearn\\model_selection\\_split.py:605: Warning: The least populated class in y has only 1 members, which is too few. The minimum number of members in any class cannot be less than n_splits=4.\n",
      "  % (min_groups, self.n_splits)), Warning)\n",
      "E:\\Anaconda\\lib\\site-packages\\sklearn\\model_selection\\_split.py:605: Warning: The least populated class in y has only 1 members, which is too few. The minimum number of members in any class cannot be less than n_splits=4.\n",
      "  % (min_groups, self.n_splits)), Warning)\n"
     ]
    },
    {
     "name": "stdout",
     "output_type": "stream",
     "text": [
      "Train Cross Validation Score 0.57\n",
      "\n",
      "Test Cross Validation Score 0.57\n",
      "\n"
     ]
    },
    {
     "name": "stderr",
     "output_type": "stream",
     "text": [
      "E:\\Anaconda\\lib\\site-packages\\sklearn\\model_selection\\_split.py:605: Warning: The least populated class in y has only 1 members, which is too few. The minimum number of members in any class cannot be less than n_splits=4.\n",
      "  % (min_groups, self.n_splits)), Warning)\n",
      "E:\\Anaconda\\lib\\site-packages\\sklearn\\model_selection\\_split.py:605: Warning: The least populated class in y has only 1 members, which is too few. The minimum number of members in any class cannot be less than n_splits=4.\n",
      "  % (min_groups, self.n_splits)), Warning)\n"
     ]
    }
   ],
   "source": [
    "#### Without PCA\n",
    "\n",
    "from sklearn.linear_model import LogisticRegression\n",
    "from sklearn.model_selection import GridSearchCV\n",
    "clf = LogisticRegression()\n",
    "param_grid_log = {'penalty':['l1', 'l2']}\n",
    "grid_search_log = GridSearchCV(clf,param_grid_log,cv=StratifiedKFold(4,shuffle = True,random_state = 1))\n",
    "grid_search_log.fit(X_train,Y_train)\n",
    "\n",
    "print('Best parameters{}\\n'.format(grid_search_log.best_params_))\n",
    "print('Best score {:.2f}\\n'.format(grid_search_log.best_score_))  \n",
    "\n",
    "from sklearn.model_selection import cross_val_score\n",
    "scores_logi_train = cross_val_score(grid_search_log,X_train,Y_train,cv=StratifiedKFold(4,shuffle = True,random_state = 1))\n",
    "scores_logi_test = cross_val_score(grid_search_log,X_test,Y_test,cv=StratifiedKFold(4,shuffle = True,random_state = 1))\n",
    "print('Train Cross Validation Score {:.2f}\\n'.format(np.mean(scores_logi_train)))\n",
    "print('Test Cross Validation Score {:.2f}\\n'.format(np.mean(scores_logi_test)))\n",
    "\n",
    "\n",
    "\n",
    "\n",
    "##### With AdaBoost\n",
    "\n",
    "from sklearn.ensemble import AdaBoostClassifier\n",
    "from sklearn.linear_model import LogisticRegression\n",
    "\n",
    "ada_clf = AdaBoostClassifier(\n",
    "    LogisticRegression(C = 10),\n",
    "    n_estimators=200,\n",
    "    algorithm=\"SAMME.R\", learning_rate=0.5, random_state=1)\n",
    "ada_clf.fit(X_train, Y_train)\n",
    "\n",
    "print('Accuracy of Training: {:.2f}'.format(ada_clf.score(X_train, Y_train)))\n",
    "\n",
    "from sklearn.metrics import recall_score, accuracy_score\n",
    "\n",
    "y_predict = ada_clf.predict(X_test)\n",
    "print('Recall: {:.5f}'.format(recall_score(Y_test, y_predict, average=\"weighted\")))\n",
    "print('Accuracy: {:.2f}'.format(accuracy_score(Y_test, y_predict)))\n",
    "\n",
    "from sklearn.metrics import classification_report\n",
    "\n",
    "print(classification_report(Y_test, y_predict))\n",
    "\n",
    "\n",
    "\n",
    "\n",
    "###### Bagging Method\n",
    "\n",
    "from sklearn.ensemble import BaggingClassifier\n",
    "from sklearn.linear_model import LogisticRegression\n",
    "\n",
    "bag_clf_logi = BaggingClassifier(\n",
    "    LogisticRegression(C=10),\n",
    "    bootstrap=True, n_jobs=-1, n_estimators=500, max_samples=100, random_state=1)\n",
    "\n",
    "bag_clf_logi.fit(X_train, Y_train)\n",
    "\n",
    "print('Accuracy of Training: {:.2f}'.format(bag_clf_logi.score(X_train, Y_train)))\n",
    "\n",
    "from sklearn.metrics import recall_score, accuracy_score\n",
    "\n",
    "y_predict_logi_bag = bag_clf_logi.predict(X_test)\n",
    "print('Recall: {:.5f}'.format(recall_score(Y_test, y_predict_logi_bag, average=\"weighted\")))\n",
    "print('Accuracy: {:.2f}'.format(accuracy_score(Y_test, y_predict_logi_bag)))\n",
    "\n",
    "from sklearn.metrics import classification_report\n",
    "\n",
    "print(classification_report(Y_test, y_predict_logi_bag))\n",
    "\n",
    "\n",
    "\n",
    "\n",
    "#### With PCA\n",
    "\n",
    "from sklearn.linear_model import LogisticRegression\n",
    "from sklearn.model_selection import GridSearchCV\n",
    "clf = LogisticRegression()\n",
    "param_grid_log = {'penalty':['l1', 'l2']}\n",
    "grid_search_log_pca = GridSearchCV(clf,param_grid_log,cv=StratifiedKFold(4,shuffle = True,random_state = 1))\n",
    "grid_search_log_pca.fit(X_train_pca,Y_train)\n",
    "\n",
    "print('Best parameters{}\\n'.format(grid_search_log_pca.best_params_))\n",
    "print('Best score {:.2f}\\n'.format(grid_search_log_pca.best_score_))  \n",
    "\n",
    "from sklearn.model_selection import cross_val_score\n",
    "scores_logi_train_pca = cross_val_score(grid_search_log_pca,X_train_pca,Y_train,cv=StratifiedKFold(4,shuffle = True,random_state = 1))\n",
    "scores_logi_test_pca = cross_val_score(grid_search_log_pca,X_test_pca,Y_test,cv=StratifiedKFold(4,shuffle = True,random_state = 1))\n",
    "print('Train Cross Validation Score {:.2f}\\n'.format(np.mean(scores_logi_train_pca)))\n",
    "print('Test Cross Validation Score {:.2f}\\n'.format(np.mean(scores_logi_test_pca)))\n",
    "\n"
   ]
  },
  {
   "cell_type": "markdown",
   "metadata": {},
   "source": [
    "# Random Forest"
   ]
  },
  {
   "cell_type": "code",
   "execution_count": 18,
   "metadata": {},
   "outputs": [
    {
     "name": "stdout",
     "output_type": "stream",
     "text": [
      "R2 score from training set :1.0\n",
      "R2 score from test set :0.7912087912087912\n",
      "Accuracy of Training: 1.00\n",
      "Recall: 0.69231\n",
      "Accuracy: 0.69\n",
      "             precision    recall  f1-score   support\n",
      "\n",
      "          1       0.66      1.00      0.79        52\n",
      "          2       1.00      0.50      0.67         8\n",
      "          3       1.00      1.00      1.00         4\n",
      "          4       1.00      1.00      1.00         1\n",
      "          5       0.00      0.00      0.00         2\n",
      "          6       0.00      0.00      0.00         3\n",
      "          9       1.00      0.50      0.67         2\n",
      "         10       1.00      0.10      0.18        10\n",
      "         11       0.00      0.00      0.00         2\n",
      "         13       0.00      0.00      0.00         7\n",
      "\n",
      "avg / total       0.65      0.69      0.60        91\n",
      "\n"
     ]
    },
    {
     "name": "stderr",
     "output_type": "stream",
     "text": [
      "E:\\Anaconda\\lib\\site-packages\\sklearn\\metrics\\classification.py:1135: UndefinedMetricWarning: Precision and F-score are ill-defined and being set to 0.0 in labels with no predicted samples.\n",
      "  'precision', 'predicted', average, warn_for)\n"
     ]
    },
    {
     "name": "stdout",
     "output_type": "stream",
     "text": [
      "Accuracy of Training: 0.75\n",
      "Recall: 0.69231\n",
      "Accuracy: 0.69\n",
      "             precision    recall  f1-score   support\n",
      "\n",
      "          1       0.67      1.00      0.80        52\n",
      "          2       0.67      0.50      0.57         8\n",
      "          3       1.00      0.75      0.86         4\n",
      "          4       1.00      1.00      1.00         1\n",
      "          5       0.00      0.00      0.00         2\n",
      "          6       0.00      0.00      0.00         3\n",
      "          9       1.00      0.50      0.67         2\n",
      "         10       1.00      0.20      0.33        10\n",
      "         11       0.00      0.00      0.00         2\n",
      "         13       0.00      0.00      0.00         7\n",
      "\n",
      "avg / total       0.63      0.69      0.61        91\n",
      "\n",
      "R2 score from training set :1.0\n",
      "R2 score from test set :0.7802197802197802\n"
     ]
    }
   ],
   "source": [
    "##### Without pca\n",
    "\n",
    "from sklearn.ensemble import RandomForestClassifier\n",
    "forest_model = RandomForestClassifier(max_depth = 30, n_estimators=500,max_features=200,oob_score=True, \n",
    "                                      n_jobs=-1, random_state=1)\n",
    "forest_model.fit(X_train, Y_train)\n",
    "fm_preds = forest_model.predict(X_test)\n",
    "print(\"R2 score from training set :\"+str(forest_model.score(X_train,Y_train)))\n",
    "print(\"R2 score from test set :\"+str(forest_model.score(X_test,Y_test)))\n",
    "\n",
    "\n",
    "##### With AdaBoost\n",
    "\n",
    "from sklearn.ensemble import AdaBoostClassifier\n",
    "from sklearn.ensemble import RandomForestClassifier\n",
    "ada_clf_rf = AdaBoostClassifier(\n",
    "    RandomForestClassifier(max_depth = 50),\n",
    "    n_estimators=200,\n",
    "    algorithm=\"SAMME.R\", learning_rate=0.5, random_state=1)\n",
    "ada_clf_rf.fit(X_train, Y_train)\n",
    "\n",
    "print('Accuracy of Training: {:.2f}'.format(ada_clf_rf.score(X_train, Y_train)))\n",
    "\n",
    "from sklearn.metrics import recall_score, accuracy_score\n",
    "\n",
    "y_predict_rf = ada_clf_rf.predict(X_test)\n",
    "print('Recall: {:.5f}'.format(recall_score(Y_test, y_predict_rf, average=\"weighted\")))\n",
    "print('Accuracy: {:.2f}'.format(accuracy_score(Y_test, y_predict_rf)))\n",
    "\n",
    "from sklearn.metrics import classification_report\n",
    "\n",
    "print(classification_report(Y_test, y_predict_rf))\n",
    "\n",
    "\n",
    "\n",
    "###### Bagging Method\n",
    "\n",
    "from sklearn.ensemble import BaggingClassifier\n",
    "from sklearn.ensemble import RandomForestClassifier\n",
    "\n",
    "bag_clf_rf = BaggingClassifier(\n",
    "    RandomForestClassifier(max_depth = 50),\n",
    "    bootstrap=True, n_jobs=-1, n_estimators=500, max_samples=100, random_state=1)\n",
    "\n",
    "bag_clf_rf.fit(X_train, Y_train)\n",
    "\n",
    "print('Accuracy of Training: {:.2f}'.format(bag_clf_rf.score(X_train, Y_train)))\n",
    "\n",
    "from sklearn.metrics import recall_score, accuracy_score\n",
    "\n",
    "y_predict_rf_bag = bag_clf_rf.predict(X_test)\n",
    "print('Recall: {:.5f}'.format(recall_score(Y_test, y_predict_rf_bag, average=\"weighted\")))\n",
    "print('Accuracy: {:.2f}'.format(accuracy_score(Y_test, y_predict_rf_bag)))\n",
    "\n",
    "from sklearn.metrics import classification_report\n",
    "\n",
    "print(classification_report(Y_test, y_predict_rf_bag))\n",
    "\n",
    "\n",
    "\n",
    "\n",
    "##### With pca\n",
    "\n",
    "from sklearn.ensemble import RandomForestClassifier\n",
    "forest_model_pca = RandomForestClassifier(max_depth = 30, n_estimators=500,max_features=50,oob_score=True, \n",
    "                                      n_jobs=-1, random_state=1)\n",
    "forest_model_pca.fit(X_train, Y_train)\n",
    "fm_preds_pca = forest_model.predict(X_test)\n",
    "print(\"R2 score from training set :\"+str(forest_model_pca.score(X_train,Y_train)))\n",
    "print(\"R2 score from test set :\"+str(forest_model_pca.score(X_test,Y_test)))\n"
   ]
  },
  {
   "cell_type": "markdown",
   "metadata": {},
   "source": [
    "# Linear SVC"
   ]
  },
  {
   "cell_type": "code",
   "execution_count": 19,
   "metadata": {},
   "outputs": [
    {
     "name": "stderr",
     "output_type": "stream",
     "text": [
      "E:\\Anaconda\\lib\\site-packages\\sklearn\\model_selection\\_split.py:605: Warning: The least populated class in y has only 2 members, which is too few. The minimum number of members in any class cannot be less than n_splits=4.\n",
      "  % (min_groups, self.n_splits)), Warning)\n"
     ]
    },
    {
     "name": "stdout",
     "output_type": "stream",
     "text": [
      "Best params {'C': 0.1}\n",
      "\n",
      "Best score 0.68698061\n",
      "\n"
     ]
    },
    {
     "name": "stderr",
     "output_type": "stream",
     "text": [
      "E:\\Anaconda\\lib\\site-packages\\sklearn\\model_selection\\_split.py:605: Warning: The least populated class in y has only 2 members, which is too few. The minimum number of members in any class cannot be less than n_splits=4.\n",
      "  % (min_groups, self.n_splits)), Warning)\n",
      "E:\\Anaconda\\lib\\site-packages\\sklearn\\model_selection\\_split.py:605: Warning: The least populated class in y has only 2 members, which is too few. The minimum number of members in any class cannot be less than n_splits=4.\n",
      "  % (min_groups, self.n_splits)), Warning)\n",
      "E:\\Anaconda\\lib\\site-packages\\sklearn\\model_selection\\_split.py:605: Warning: The least populated class in y has only 2 members, which is too few. The minimum number of members in any class cannot be less than n_splits=4.\n",
      "  % (min_groups, self.n_splits)), Warning)\n",
      "E:\\Anaconda\\lib\\site-packages\\sklearn\\model_selection\\_split.py:605: Warning: The least populated class in y has only 1 members, which is too few. The minimum number of members in any class cannot be less than n_splits=4.\n",
      "  % (min_groups, self.n_splits)), Warning)\n",
      "E:\\Anaconda\\lib\\site-packages\\sklearn\\model_selection\\_split.py:605: Warning: The least populated class in y has only 1 members, which is too few. The minimum number of members in any class cannot be less than n_splits=4.\n",
      "  % (min_groups, self.n_splits)), Warning)\n",
      "E:\\Anaconda\\lib\\site-packages\\sklearn\\model_selection\\_split.py:605: Warning: The least populated class in y has only 1 members, which is too few. The minimum number of members in any class cannot be less than n_splits=4.\n",
      "  % (min_groups, self.n_splits)), Warning)\n",
      "E:\\Anaconda\\lib\\site-packages\\sklearn\\model_selection\\_split.py:605: Warning: The least populated class in y has only 1 members, which is too few. The minimum number of members in any class cannot be less than n_splits=4.\n",
      "  % (min_groups, self.n_splits)), Warning)\n",
      "E:\\Anaconda\\lib\\site-packages\\sklearn\\model_selection\\_split.py:605: Warning: The least populated class in y has only 1 members, which is too few. The minimum number of members in any class cannot be less than n_splits=4.\n",
      "  % (min_groups, self.n_splits)), Warning)\n",
      "E:\\Anaconda\\lib\\site-packages\\sklearn\\model_selection\\_split.py:605: Warning: The least populated class in y has only 1 members, which is too few. The minimum number of members in any class cannot be less than n_splits=4.\n",
      "  % (min_groups, self.n_splits)), Warning)\n",
      "E:\\Anaconda\\lib\\site-packages\\sklearn\\model_selection\\_split.py:605: Warning: The least populated class in y has only 1 members, which is too few. The minimum number of members in any class cannot be less than n_splits=4.\n",
      "  % (min_groups, self.n_splits)), Warning)\n"
     ]
    },
    {
     "name": "stdout",
     "output_type": "stream",
     "text": [
      "Train Cross Validation Score 0.69\n",
      "\n",
      "Test Cross Validation Score 0.63\n",
      "\n",
      "Accuracy of Training: 0.99\n",
      "Recall: 0.70330\n",
      "Accuracy: 0.70\n",
      "             precision    recall  f1-score   support\n",
      "\n",
      "          1       0.75      0.87      0.80        52\n",
      "          2       0.62      0.62      0.62         8\n",
      "          3       0.67      1.00      0.80         4\n",
      "          4       1.00      1.00      1.00         1\n",
      "          5       0.00      0.00      0.00         2\n",
      "          6       0.00      0.00      0.00         3\n",
      "          9       1.00      0.50      0.67         2\n",
      "         10       0.88      0.70      0.78        10\n",
      "         11       0.00      0.00      0.00         2\n",
      "         13       0.17      0.14      0.15         7\n",
      "\n",
      "avg / total       0.65      0.70      0.67        91\n",
      "\n"
     ]
    },
    {
     "name": "stderr",
     "output_type": "stream",
     "text": [
      "E:\\Anaconda\\lib\\site-packages\\sklearn\\metrics\\classification.py:1135: UndefinedMetricWarning: Precision and F-score are ill-defined and being set to 0.0 in labels with no predicted samples.\n",
      "  'precision', 'predicted', average, warn_for)\n"
     ]
    },
    {
     "name": "stdout",
     "output_type": "stream",
     "text": [
      "Accuracy of Training: 0.99\n",
      "Recall: 0.70330\n",
      "Accuracy: 0.70\n",
      "             precision    recall  f1-score   support\n",
      "\n",
      "          1       0.75      0.87      0.80        52\n",
      "          2       0.62      0.62      0.62         8\n",
      "          3       0.67      1.00      0.80         4\n",
      "          4       1.00      1.00      1.00         1\n",
      "          5       0.00      0.00      0.00         2\n",
      "          6       0.00      0.00      0.00         3\n",
      "          9       1.00      0.50      0.67         2\n",
      "         10       0.88      0.70      0.78        10\n",
      "         11       0.00      0.00      0.00         2\n",
      "         13       0.17      0.14      0.15         7\n",
      "\n",
      "avg / total       0.65      0.70      0.67        91\n",
      "\n"
     ]
    },
    {
     "name": "stderr",
     "output_type": "stream",
     "text": [
      "E:\\Anaconda\\lib\\site-packages\\sklearn\\model_selection\\_split.py:605: Warning: The least populated class in y has only 2 members, which is too few. The minimum number of members in any class cannot be less than n_splits=4.\n",
      "  % (min_groups, self.n_splits)), Warning)\n"
     ]
    },
    {
     "name": "stdout",
     "output_type": "stream",
     "text": [
      "Best params {'C': 1}\n",
      "\n",
      "Best score 0.66204986\n",
      "\n"
     ]
    },
    {
     "name": "stderr",
     "output_type": "stream",
     "text": [
      "E:\\Anaconda\\lib\\site-packages\\sklearn\\model_selection\\_split.py:605: Warning: The least populated class in y has only 2 members, which is too few. The minimum number of members in any class cannot be less than n_splits=4.\n",
      "  % (min_groups, self.n_splits)), Warning)\n",
      "E:\\Anaconda\\lib\\site-packages\\sklearn\\model_selection\\_split.py:605: Warning: The least populated class in y has only 2 members, which is too few. The minimum number of members in any class cannot be less than n_splits=4.\n",
      "  % (min_groups, self.n_splits)), Warning)\n",
      "E:\\Anaconda\\lib\\site-packages\\sklearn\\model_selection\\_split.py:605: Warning: The least populated class in y has only 2 members, which is too few. The minimum number of members in any class cannot be less than n_splits=4.\n",
      "  % (min_groups, self.n_splits)), Warning)\n",
      "E:\\Anaconda\\lib\\site-packages\\sklearn\\model_selection\\_split.py:605: Warning: The least populated class in y has only 1 members, which is too few. The minimum number of members in any class cannot be less than n_splits=4.\n",
      "  % (min_groups, self.n_splits)), Warning)\n",
      "E:\\Anaconda\\lib\\site-packages\\sklearn\\model_selection\\_split.py:605: Warning: The least populated class in y has only 1 members, which is too few. The minimum number of members in any class cannot be less than n_splits=4.\n",
      "  % (min_groups, self.n_splits)), Warning)\n",
      "E:\\Anaconda\\lib\\site-packages\\sklearn\\model_selection\\_split.py:605: Warning: The least populated class in y has only 1 members, which is too few. The minimum number of members in any class cannot be less than n_splits=4.\n",
      "  % (min_groups, self.n_splits)), Warning)\n",
      "E:\\Anaconda\\lib\\site-packages\\sklearn\\model_selection\\_split.py:605: Warning: The least populated class in y has only 1 members, which is too few. The minimum number of members in any class cannot be less than n_splits=4.\n",
      "  % (min_groups, self.n_splits)), Warning)\n",
      "E:\\Anaconda\\lib\\site-packages\\sklearn\\model_selection\\_split.py:605: Warning: The least populated class in y has only 1 members, which is too few. The minimum number of members in any class cannot be less than n_splits=4.\n",
      "  % (min_groups, self.n_splits)), Warning)\n",
      "E:\\Anaconda\\lib\\site-packages\\sklearn\\model_selection\\_split.py:605: Warning: The least populated class in y has only 1 members, which is too few. The minimum number of members in any class cannot be less than n_splits=4.\n",
      "  % (min_groups, self.n_splits)), Warning)\n",
      "E:\\Anaconda\\lib\\site-packages\\sklearn\\model_selection\\_split.py:605: Warning: The least populated class in y has only 1 members, which is too few. The minimum number of members in any class cannot be less than n_splits=4.\n",
      "  % (min_groups, self.n_splits)), Warning)\n"
     ]
    },
    {
     "name": "stdout",
     "output_type": "stream",
     "text": [
      "Train Cross Validation Score 0.66\n",
      "\n",
      "Test Cross Validation Score 0.58\n",
      "\n"
     ]
    }
   ],
   "source": [
    "##### Without PCA\n",
    "\n",
    "from sklearn.svm import LinearSVC\n",
    "from sklearn.model_selection import GridSearchCV\n",
    "\n",
    "svc = LinearSVC()\n",
    "param_grid = {'C':[0.1,1,10,100,2000]}\n",
    "grid_search_lsvc = GridSearchCV(svc,param_grid,cv=StratifiedKFold(4,shuffle = True,random_state = 1))              \n",
    "grid_search_lsvc.fit(X_train,Y_train)\n",
    "\n",
    "print('Best params {}\\n'.format(grid_search_lsvc.best_params_))\n",
    "print('Best score {:.8f}\\n'.format(grid_search_lsvc.best_score_))\n",
    "\n",
    "from sklearn.model_selection import cross_val_score\n",
    "scores_lsvc_train = cross_val_score(grid_search_lsvc,X_train,Y_train,cv=StratifiedKFold(4,shuffle = True,random_state = 1))\n",
    "scores_lsvc_test = cross_val_score(grid_search_lsvc,X_test,Y_test,cv=StratifiedKFold(4,shuffle = True,random_state = 1))\n",
    "print('Train Cross Validation Score {:.2f}\\n'.format(np.mean(scores_lsvc_train)))\n",
    "print('Test Cross Validation Score {:.2f}\\n'.format(np.mean(scores_lsvc_test)))\n",
    "\n",
    "\n",
    "\n",
    "\n",
    "##### With AdaBoost\n",
    "\n",
    "from sklearn.ensemble import AdaBoostClassifier\n",
    "from sklearn.svm import LinearSVC\n",
    "ada_clf_lsvc = AdaBoostClassifier(\n",
    "    LinearSVC(C=10),\n",
    "    n_estimators=200,\n",
    "    algorithm=\"SAMME\", learning_rate=0.5, random_state=1)\n",
    "ada_clf_lsvc.fit(X_train, Y_train)\n",
    "\n",
    "print('Accuracy of Training: {:.2f}'.format(ada_clf_lsvc.score(X_train, Y_train)))\n",
    "\n",
    "from sklearn.metrics import recall_score, accuracy_score\n",
    "\n",
    "y_predict_lsvc = ada_clf_lsvc.predict(X_test)\n",
    "print('Recall: {:.5f}'.format(recall_score(Y_test, y_predict_lsvc, average=\"weighted\")))\n",
    "print('Accuracy: {:.2f}'.format(accuracy_score(Y_test, y_predict_lsvc)))\n",
    "\n",
    "from sklearn.metrics import classification_report\n",
    "\n",
    "print(classification_report(Y_test, y_predict_lsvc))\n",
    "\n",
    "\n",
    "\n",
    "###### Bagging Method\n",
    "\n",
    "from sklearn.ensemble import BaggingClassifier\n",
    "from sklearn.svm import LinearSVC\n",
    "\n",
    "bag_clf_lsvc = BaggingClassifier(\n",
    "    LinearSVC(C=10),\n",
    "    bootstrap=True, n_jobs=-1, n_estimators=500, max_samples=100, random_state=1)\n",
    "\n",
    "bag_clf_lsvc.fit(X_train, Y_train)\n",
    "\n",
    "print('Accuracy of Training: {:.2f}'.format(bag_clf_lsvc.score(X_train, Y_train)))\n",
    "\n",
    "from sklearn.metrics import recall_score, accuracy_score\n",
    "\n",
    "y_predict_lsvc_bag = bag_clf_lsvc.predict(X_test)\n",
    "print('Recall: {:.5f}'.format(recall_score(Y_test, y_predict_lsvc_bag, average=\"weighted\")))\n",
    "print('Accuracy: {:.2f}'.format(accuracy_score(Y_test, y_predict_lsvc_bag)))\n",
    "\n",
    "from sklearn.metrics import classification_report\n",
    "\n",
    "print(classification_report(Y_test, y_predict_lsvc_bag))\n",
    "\n",
    "\n",
    "\n",
    "\n",
    "##### With PCA\n",
    "\n",
    "from sklearn.svm import LinearSVC\n",
    "from sklearn.model_selection import GridSearchCV\n",
    "\n",
    "svc = LinearSVC()\n",
    "param_grid = {'C':[0.1,1,10,100,2000]}\n",
    "grid_search_svc_pca = GridSearchCV(svc,param_grid,cv=StratifiedKFold(4,shuffle = True,random_state = 1))              \n",
    "grid_search_svc_pca.fit(X_train_pca,Y_train)\n",
    "\n",
    "print('Best params {}\\n'.format(grid_search_svc_pca.best_params_))\n",
    "print('Best score {:.8f}\\n'.format(grid_search_svc_pca.best_score_))\n",
    "\n",
    "from sklearn.model_selection import cross_val_score\n",
    "scores_lsvc_train_pca = cross_val_score(grid_search_svc_pca,X_train_pca,Y_train,cv=StratifiedKFold(4,shuffle = True,random_state = 1))\n",
    "scores_lsvc_test_pca = cross_val_score(grid_search_svc_pca,X_test_pca,Y_test,cv=StratifiedKFold(4,shuffle = True,random_state = 1))\n",
    "print('Train Cross Validation Score {:.2f}\\n'.format(np.mean(scores_lsvc_train_pca)))\n",
    "print('Test Cross Validation Score {:.2f}\\n'.format(np.mean(scores_lsvc_test_pca)))\n"
   ]
  },
  {
   "cell_type": "markdown",
   "metadata": {},
   "source": [
    "# Kernelized SVC"
   ]
  },
  {
   "cell_type": "code",
   "execution_count": 20,
   "metadata": {},
   "outputs": [
    {
     "name": "stderr",
     "output_type": "stream",
     "text": [
      "E:\\Anaconda\\lib\\site-packages\\sklearn\\model_selection\\_split.py:605: Warning: The least populated class in y has only 2 members, which is too few. The minimum number of members in any class cannot be less than n_splits=4.\n",
      "  % (min_groups, self.n_splits)), Warning)\n"
     ]
    },
    {
     "name": "stdout",
     "output_type": "stream",
     "text": [
      "Best params {'C': 100}\n",
      "Best score 0.69529086\n"
     ]
    },
    {
     "name": "stderr",
     "output_type": "stream",
     "text": [
      "E:\\Anaconda\\lib\\site-packages\\sklearn\\model_selection\\_split.py:605: Warning: The least populated class in y has only 2 members, which is too few. The minimum number of members in any class cannot be less than n_splits=4.\n",
      "  % (min_groups, self.n_splits)), Warning)\n",
      "E:\\Anaconda\\lib\\site-packages\\sklearn\\model_selection\\_split.py:605: Warning: The least populated class in y has only 2 members, which is too few. The minimum number of members in any class cannot be less than n_splits=4.\n",
      "  % (min_groups, self.n_splits)), Warning)\n",
      "E:\\Anaconda\\lib\\site-packages\\sklearn\\model_selection\\_split.py:605: Warning: The least populated class in y has only 2 members, which is too few. The minimum number of members in any class cannot be less than n_splits=4.\n",
      "  % (min_groups, self.n_splits)), Warning)\n",
      "E:\\Anaconda\\lib\\site-packages\\sklearn\\model_selection\\_split.py:605: Warning: The least populated class in y has only 1 members, which is too few. The minimum number of members in any class cannot be less than n_splits=4.\n",
      "  % (min_groups, self.n_splits)), Warning)\n",
      "E:\\Anaconda\\lib\\site-packages\\sklearn\\model_selection\\_split.py:605: Warning: The least populated class in y has only 1 members, which is too few. The minimum number of members in any class cannot be less than n_splits=4.\n",
      "  % (min_groups, self.n_splits)), Warning)\n",
      "E:\\Anaconda\\lib\\site-packages\\sklearn\\model_selection\\_split.py:605: Warning: The least populated class in y has only 1 members, which is too few. The minimum number of members in any class cannot be less than n_splits=4.\n",
      "  % (min_groups, self.n_splits)), Warning)\n",
      "E:\\Anaconda\\lib\\site-packages\\sklearn\\model_selection\\_split.py:605: Warning: The least populated class in y has only 1 members, which is too few. The minimum number of members in any class cannot be less than n_splits=4.\n",
      "  % (min_groups, self.n_splits)), Warning)\n",
      "E:\\Anaconda\\lib\\site-packages\\sklearn\\model_selection\\_split.py:605: Warning: The least populated class in y has only 1 members, which is too few. The minimum number of members in any class cannot be less than n_splits=4.\n",
      "  % (min_groups, self.n_splits)), Warning)\n",
      "E:\\Anaconda\\lib\\site-packages\\sklearn\\model_selection\\_split.py:605: Warning: The least populated class in y has only 1 members, which is too few. The minimum number of members in any class cannot be less than n_splits=4.\n",
      "  % (min_groups, self.n_splits)), Warning)\n",
      "E:\\Anaconda\\lib\\site-packages\\sklearn\\model_selection\\_split.py:605: Warning: The least populated class in y has only 1 members, which is too few. The minimum number of members in any class cannot be less than n_splits=4.\n",
      "  % (min_groups, self.n_splits)), Warning)\n"
     ]
    },
    {
     "name": "stdout",
     "output_type": "stream",
     "text": [
      "Train Cross Validation Score 0.70\n",
      "\n",
      "Test Cross Validation Score 0.65\n",
      "\n",
      "Accuracy of Training: 0.99\n",
      "Recall: 0.70330\n",
      "Accuracy: 0.70\n",
      "             precision    recall  f1-score   support\n",
      "\n",
      "          1       0.75      0.87      0.80        52\n",
      "          2       0.62      0.62      0.62         8\n",
      "          3       0.67      1.00      0.80         4\n",
      "          4       1.00      1.00      1.00         1\n",
      "          5       0.00      0.00      0.00         2\n",
      "          6       0.00      0.00      0.00         3\n",
      "          9       1.00      0.50      0.67         2\n",
      "         10       0.88      0.70      0.78        10\n",
      "         11       0.00      0.00      0.00         2\n",
      "         13       0.17      0.14      0.15         7\n",
      "\n",
      "avg / total       0.65      0.70      0.67        91\n",
      "\n"
     ]
    },
    {
     "name": "stderr",
     "output_type": "stream",
     "text": [
      "E:\\Anaconda\\lib\\site-packages\\sklearn\\metrics\\classification.py:1135: UndefinedMetricWarning: Precision and F-score are ill-defined and being set to 0.0 in labels with no predicted samples.\n",
      "  'precision', 'predicted', average, warn_for)\n"
     ]
    },
    {
     "name": "stdout",
     "output_type": "stream",
     "text": [
      "Accuracy of Training: 0.99\n",
      "Recall: 0.70330\n",
      "Accuracy: 0.70\n",
      "             precision    recall  f1-score   support\n",
      "\n",
      "          1       0.75      0.87      0.80        52\n",
      "          2       0.62      0.62      0.62         8\n",
      "          3       0.67      1.00      0.80         4\n",
      "          4       1.00      1.00      1.00         1\n",
      "          5       0.00      0.00      0.00         2\n",
      "          6       0.00      0.00      0.00         3\n",
      "          9       1.00      0.50      0.67         2\n",
      "         10       0.88      0.70      0.78        10\n",
      "         11       0.00      0.00      0.00         2\n",
      "         13       0.17      0.14      0.15         7\n",
      "\n",
      "avg / total       0.65      0.70      0.67        91\n",
      "\n"
     ]
    },
    {
     "name": "stderr",
     "output_type": "stream",
     "text": [
      "E:\\Anaconda\\lib\\site-packages\\sklearn\\model_selection\\_split.py:605: Warning: The least populated class in y has only 2 members, which is too few. The minimum number of members in any class cannot be less than n_splits=4.\n",
      "  % (min_groups, self.n_splits)), Warning)\n"
     ]
    },
    {
     "name": "stdout",
     "output_type": "stream",
     "text": [
      "Best params {'C': 100}\n",
      "Best score 0.65096953\n"
     ]
    },
    {
     "name": "stderr",
     "output_type": "stream",
     "text": [
      "E:\\Anaconda\\lib\\site-packages\\sklearn\\model_selection\\_split.py:605: Warning: The least populated class in y has only 2 members, which is too few. The minimum number of members in any class cannot be less than n_splits=4.\n",
      "  % (min_groups, self.n_splits)), Warning)\n",
      "E:\\Anaconda\\lib\\site-packages\\sklearn\\model_selection\\_split.py:605: Warning: The least populated class in y has only 2 members, which is too few. The minimum number of members in any class cannot be less than n_splits=4.\n",
      "  % (min_groups, self.n_splits)), Warning)\n",
      "E:\\Anaconda\\lib\\site-packages\\sklearn\\model_selection\\_split.py:605: Warning: The least populated class in y has only 2 members, which is too few. The minimum number of members in any class cannot be less than n_splits=4.\n",
      "  % (min_groups, self.n_splits)), Warning)\n",
      "E:\\Anaconda\\lib\\site-packages\\sklearn\\model_selection\\_split.py:605: Warning: The least populated class in y has only 1 members, which is too few. The minimum number of members in any class cannot be less than n_splits=4.\n",
      "  % (min_groups, self.n_splits)), Warning)\n",
      "E:\\Anaconda\\lib\\site-packages\\sklearn\\model_selection\\_split.py:605: Warning: The least populated class in y has only 1 members, which is too few. The minimum number of members in any class cannot be less than n_splits=4.\n",
      "  % (min_groups, self.n_splits)), Warning)\n",
      "E:\\Anaconda\\lib\\site-packages\\sklearn\\model_selection\\_split.py:605: Warning: The least populated class in y has only 1 members, which is too few. The minimum number of members in any class cannot be less than n_splits=4.\n",
      "  % (min_groups, self.n_splits)), Warning)\n",
      "E:\\Anaconda\\lib\\site-packages\\sklearn\\model_selection\\_split.py:605: Warning: The least populated class in y has only 1 members, which is too few. The minimum number of members in any class cannot be less than n_splits=4.\n",
      "  % (min_groups, self.n_splits)), Warning)\n",
      "E:\\Anaconda\\lib\\site-packages\\sklearn\\model_selection\\_split.py:605: Warning: The least populated class in y has only 1 members, which is too few. The minimum number of members in any class cannot be less than n_splits=4.\n",
      "  % (min_groups, self.n_splits)), Warning)\n",
      "E:\\Anaconda\\lib\\site-packages\\sklearn\\model_selection\\_split.py:605: Warning: The least populated class in y has only 1 members, which is too few. The minimum number of members in any class cannot be less than n_splits=4.\n",
      "  % (min_groups, self.n_splits)), Warning)\n"
     ]
    },
    {
     "name": "stdout",
     "output_type": "stream",
     "text": [
      "Train Cross Validation Score 0.65\n",
      "\n",
      "Test Cross Validation Score 0.59\n",
      "\n"
     ]
    },
    {
     "name": "stderr",
     "output_type": "stream",
     "text": [
      "E:\\Anaconda\\lib\\site-packages\\sklearn\\model_selection\\_split.py:605: Warning: The least populated class in y has only 1 members, which is too few. The minimum number of members in any class cannot be less than n_splits=4.\n",
      "  % (min_groups, self.n_splits)), Warning)\n"
     ]
    }
   ],
   "source": [
    "##### Without PCA\n",
    "\n",
    "from sklearn.svm import SVC\n",
    "from sklearn.model_selection import GridSearchCV\n",
    "\n",
    "svc_rbf = SVC(kernel='rbf')\n",
    "param_grid = {'C':[0.1,1,10,100,2000]}\n",
    "grid_search_svc_rbf = GridSearchCV(svc_rbf,param_grid,cv=StratifiedKFold(4,shuffle = True,random_state = 1))              \n",
    "grid_search_svc_rbf.fit(X_train,Y_train)\n",
    "\n",
    "\n",
    "print('Best params {}'.format(grid_search_svc_rbf.best_params_))\n",
    "print('Best score {:.8f}'.format(grid_search_svc_rbf.best_score_))\n",
    "\n",
    "from sklearn.model_selection import cross_val_score\n",
    "scores_svc_rbf_train = cross_val_score(grid_search_svc_rbf,X_train,Y_train,cv=StratifiedKFold(4,shuffle = True,random_state = 1))\n",
    "scores_svc_rbf_test = cross_val_score(grid_search_svc_rbf,X_test,Y_test,cv=StratifiedKFold(4,shuffle = True,random_state = 1))\n",
    "print('Train Cross Validation Score {:.2f}\\n'.format(np.mean(scores_svc_rbf_train)))\n",
    "print('Test Cross Validation Score {:.2f}\\n'.format(np.mean(scores_svc_rbf_test)))\n",
    "\n",
    "\n",
    "\n",
    "##### With AdaBoost\n",
    "\n",
    "from sklearn.ensemble import AdaBoostClassifier\n",
    "from sklearn.svm import SVC\n",
    "ada_clf_rbf = AdaBoostClassifier(\n",
    "    LinearSVC(C=10),\n",
    "    n_estimators=200,\n",
    "    algorithm=\"SAMME\", learning_rate=0.5, random_state=1)\n",
    "ada_clf_rbf.fit(X_train, Y_train)\n",
    "\n",
    "print('Accuracy of Training: {:.2f}'.format(ada_clf_rbf.score(X_train, Y_train)))\n",
    "\n",
    "from sklearn.metrics import recall_score, accuracy_score\n",
    "\n",
    "y_predict_rbf = ada_clf_rbf.predict(X_test)\n",
    "print('Recall: {:.5f}'.format(recall_score(Y_test, y_predict_rbf, average=\"weighted\")))\n",
    "print('Accuracy: {:.2f}'.format(accuracy_score(Y_test, y_predict_rbf)))\n",
    "\n",
    "from sklearn.metrics import classification_report\n",
    "\n",
    "print(classification_report(Y_test, y_predict_rbf))\n",
    "\n",
    "\n",
    "\n",
    "\n",
    "###### Bagging Method\n",
    "\n",
    "from sklearn.ensemble import BaggingClassifier\n",
    "from sklearn.linear_model import LogisticRegression\n",
    "\n",
    "bag_clf_rbf = BaggingClassifier(\n",
    "    LinearSVC(C=10),\n",
    "    bootstrap=True, n_jobs=-1, n_estimators=500, max_samples=100, random_state=1)\n",
    "\n",
    "bag_clf_rbf.fit(X_train, Y_train)\n",
    "\n",
    "print('Accuracy of Training: {:.2f}'.format(bag_clf_rbf.score(X_train, Y_train)))\n",
    "\n",
    "from sklearn.metrics import recall_score, accuracy_score\n",
    "\n",
    "y_predict_rbf_bag = bag_clf_rbf.predict(X_test)\n",
    "print('Recall: {:.5f}'.format(recall_score(Y_test, y_predict_rbf_bag, average=\"weighted\")))\n",
    "print('Accuracy: {:.2f}'.format(accuracy_score(Y_test, y_predict_rbf_bag)))\n",
    "\n",
    "from sklearn.metrics import classification_report\n",
    "\n",
    "print(classification_report(Y_test, y_predict_rbf_bag))\n",
    "\n",
    "\n",
    "\n",
    "\n",
    "\n",
    "##### With PCA\n",
    "\n",
    "from sklearn.svm import SVC\n",
    "from sklearn.model_selection import GridSearchCV\n",
    "\n",
    "svc_rbf = SVC(kernel='rbf')\n",
    "param_grid = {'C':[0.1,1,10,100,2000]}\n",
    "grid_search_svc_rbf_pca = GridSearchCV(svc_rbf,param_grid,cv=StratifiedKFold(4,shuffle = True,random_state = 1))              \n",
    "grid_search_svc_rbf_pca.fit(X_train_pca,Y_train)\n",
    "\n",
    "\n",
    "print('Best params {}'.format(grid_search_svc_rbf_pca.best_params_))\n",
    "print('Best score {:.8f}'.format(grid_search_svc_rbf_pca.best_score_))\n",
    "\n",
    "from sklearn.model_selection import cross_val_score\n",
    "scores_svc_rbf_train_pca = cross_val_score(grid_search_svc_rbf_pca,X_train_pca,Y_train,cv=StratifiedKFold(4,shuffle = True,random_state = 1))\n",
    "scores_svc_rbf_test_pca = cross_val_score(grid_search_svc_rbf_pca,X_test_pca,Y_test,cv=StratifiedKFold(4,shuffle = True,random_state = 1))\n",
    "print('Train Cross Validation Score {:.2f}\\n'.format(np.mean(scores_svc_rbf_train_pca)))\n",
    "print('Test Cross Validation Score {:.2f}\\n'.format(np.mean(scores_svc_rbf_test_pca)))\n"
   ]
  },
  {
   "cell_type": "markdown",
   "metadata": {},
   "source": [
    "# Soft/Hard Classifier"
   ]
  },
  {
   "cell_type": "code",
   "execution_count": 21,
   "metadata": {},
   "outputs": [
    {
     "name": "stderr",
     "output_type": "stream",
     "text": [
      "E:\\Anaconda\\lib\\site-packages\\sklearn\\model_selection\\_split.py:605: Warning: The least populated class in y has only 2 members, which is too few. The minimum number of members in any class cannot be less than n_splits=4.\n",
      "  % (min_groups, self.n_splits)), Warning)\n",
      "E:\\Anaconda\\lib\\site-packages\\sklearn\\model_selection\\_split.py:605: Warning: The least populated class in y has only 2 members, which is too few. The minimum number of members in any class cannot be less than n_splits=4.\n",
      "  % (min_groups, self.n_splits)), Warning)\n",
      "E:\\Anaconda\\lib\\site-packages\\sklearn\\model_selection\\_split.py:605: Warning: The least populated class in y has only 2 members, which is too few. The minimum number of members in any class cannot be less than n_splits=4.\n",
      "  % (min_groups, self.n_splits)), Warning)\n",
      "E:\\Anaconda\\lib\\site-packages\\sklearn\\model_selection\\_split.py:605: Warning: The least populated class in y has only 2 members, which is too few. The minimum number of members in any class cannot be less than n_splits=4.\n",
      "  % (min_groups, self.n_splits)), Warning)\n",
      "E:\\Anaconda\\lib\\site-packages\\sklearn\\model_selection\\_split.py:605: Warning: The least populated class in y has only 2 members, which is too few. The minimum number of members in any class cannot be less than n_splits=4.\n",
      "  % (min_groups, self.n_splits)), Warning)\n",
      "E:\\Anaconda\\lib\\site-packages\\sklearn\\model_selection\\_split.py:605: Warning: The least populated class in y has only 2 members, which is too few. The minimum number of members in any class cannot be less than n_splits=4.\n",
      "  % (min_groups, self.n_splits)), Warning)\n",
      "E:\\Anaconda\\lib\\site-packages\\sklearn\\model_selection\\_split.py:605: Warning: The least populated class in y has only 2 members, which is too few. The minimum number of members in any class cannot be less than n_splits=4.\n",
      "  % (min_groups, self.n_splits)), Warning)\n",
      "E:\\Anaconda\\lib\\site-packages\\sklearn\\model_selection\\_split.py:605: Warning: The least populated class in y has only 2 members, which is too few. The minimum number of members in any class cannot be less than n_splits=4.\n",
      "  % (min_groups, self.n_splits)), Warning)\n",
      "E:\\Anaconda\\lib\\site-packages\\sklearn\\preprocessing\\label.py:151: DeprecationWarning: The truth value of an empty array is ambiguous. Returning False, but in future this will result in an error. Use `array.size > 0` to check that an array is not empty.\n",
      "  if diff:\n"
     ]
    },
    {
     "name": "stdout",
     "output_type": "stream",
     "text": [
      "Train score: 0.90\n"
     ]
    },
    {
     "name": "stderr",
     "output_type": "stream",
     "text": [
      "E:\\Anaconda\\lib\\site-packages\\sklearn\\preprocessing\\label.py:151: DeprecationWarning: The truth value of an empty array is ambiguous. Returning False, but in future this will result in an error. Use `array.size > 0` to check that an array is not empty.\n",
      "  if diff:\n",
      "E:\\Anaconda\\lib\\site-packages\\sklearn\\model_selection\\_split.py:605: Warning: The least populated class in y has only 2 members, which is too few. The minimum number of members in any class cannot be less than n_splits=4.\n",
      "  % (min_groups, self.n_splits)), Warning)\n"
     ]
    },
    {
     "name": "stdout",
     "output_type": "stream",
     "text": [
      "Test score: 0.74\n"
     ]
    },
    {
     "name": "stderr",
     "output_type": "stream",
     "text": [
      "E:\\Anaconda\\lib\\site-packages\\sklearn\\model_selection\\_split.py:605: Warning: The least populated class in y has only 2 members, which is too few. The minimum number of members in any class cannot be less than n_splits=4.\n",
      "  % (min_groups, self.n_splits)), Warning)\n",
      "E:\\Anaconda\\lib\\site-packages\\sklearn\\model_selection\\_split.py:605: Warning: The least populated class in y has only 2 members, which is too few. The minimum number of members in any class cannot be less than n_splits=4.\n",
      "  % (min_groups, self.n_splits)), Warning)\n",
      "E:\\Anaconda\\lib\\site-packages\\sklearn\\model_selection\\_split.py:605: Warning: The least populated class in y has only 2 members, which is too few. The minimum number of members in any class cannot be less than n_splits=4.\n",
      "  % (min_groups, self.n_splits)), Warning)\n",
      "E:\\Anaconda\\lib\\site-packages\\sklearn\\model_selection\\_split.py:605: Warning: The least populated class in y has only 2 members, which is too few. The minimum number of members in any class cannot be less than n_splits=4.\n",
      "  % (min_groups, self.n_splits)), Warning)\n",
      "E:\\Anaconda\\lib\\site-packages\\sklearn\\model_selection\\_split.py:605: Warning: The least populated class in y has only 2 members, which is too few. The minimum number of members in any class cannot be less than n_splits=4.\n",
      "  % (min_groups, self.n_splits)), Warning)\n",
      "E:\\Anaconda\\lib\\site-packages\\sklearn\\model_selection\\_split.py:605: Warning: The least populated class in y has only 2 members, which is too few. The minimum number of members in any class cannot be less than n_splits=4.\n",
      "  % (min_groups, self.n_splits)), Warning)\n",
      "E:\\Anaconda\\lib\\site-packages\\sklearn\\model_selection\\_split.py:605: Warning: The least populated class in y has only 2 members, which is too few. The minimum number of members in any class cannot be less than n_splits=4.\n",
      "  % (min_groups, self.n_splits)), Warning)\n",
      "E:\\Anaconda\\lib\\site-packages\\sklearn\\preprocessing\\label.py:151: DeprecationWarning: The truth value of an empty array is ambiguous. Returning False, but in future this will result in an error. Use `array.size > 0` to check that an array is not empty.\n",
      "  if diff:\n"
     ]
    },
    {
     "name": "stdout",
     "output_type": "stream",
     "text": [
      "Train score: 0.90\n",
      "Test score: 0.74\n"
     ]
    },
    {
     "name": "stderr",
     "output_type": "stream",
     "text": [
      "E:\\Anaconda\\lib\\site-packages\\sklearn\\preprocessing\\label.py:151: DeprecationWarning: The truth value of an empty array is ambiguous. Returning False, but in future this will result in an error. Use `array.size > 0` to check that an array is not empty.\n",
      "  if diff:\n"
     ]
    }
   ],
   "source": [
    "## Hard Voting\n",
    "\n",
    "from sklearn.ensemble import VotingClassifier\n",
    "\n",
    "hard_voting_clf = VotingClassifier(estimators=[('Kern SVM without pca',grid_search_svc_rbf),\n",
    "                                               ('Kern SVM ADA boost ', ada_clf_rbf),\n",
    "                                               ('Kern SVM with Bagging',bag_clf_rbf),\n",
    "                                               ('Kern SVM with pca',grid_search_svc_rbf_pca),\n",
    "                                               ('Lin SVM without pca',grid_search_lsvc),\n",
    "                                               ('Lin SVM ADA boost ', ada_clf_lsvc),\n",
    "                                               ('Lin SVM with Bagging',bag_clf_lsvc),\n",
    "                                               ('Lin SVM with pca',grid_search_lsvc),                                              \n",
    "                                               ('Rand Forest without pca',forest_model),\n",
    "                                               ('Random Forest ADA boost ', ada_clf_rf),\n",
    "                                               ('Random Forest with Bagging',bag_clf_rf),\n",
    "                                               ('Random Forest with pca',forest_model_pca),                                              \n",
    "                                               ('Dec Tree without pca',grid_search_dt),\n",
    "                                               ('Dec Tree ADA boost ', ada_clf_dt),\n",
    "                                               ('Dec Tree with Bagging',bag_clf_dt),\n",
    "                                               ('Gradient Boost Dec Tree',gb_dt),\n",
    "                                               ('Dec Tree with pca',grid_search_dt_pca),                                              \n",
    "                                               ('Log Reg without pca',grid_search_log),\n",
    "                                               ('Log Reg ADA boost ', ada_clf),\n",
    "                                               ('Log Reg with Bagging',bag_clf_logi),\n",
    "                                               ('Log Reg with pca',grid_search_log_pca),                                              \n",
    "                                               ('KNN without pca',knn),                                               \n",
    "                                               ('KNN with Bagging',bag_clf_knn),\n",
    "                                               ('KNN with pca',knn_pca)], voting = 'hard')\n",
    "hard_voting_clf.fit(X_train, Y_train)\n",
    "print('Train score: {0:0.2f}'.format(hard_voting_clf.score(X_train, Y_train)))\n",
    "print('Test score: {0:0.2f}'.format(hard_voting_clf.score(X_test, Y_test)))\n",
    "\n",
    "\n",
    "## Soft Voting\n",
    "\n",
    "from sklearn.ensemble import VotingClassifier\n",
    "\n",
    "soft_voting_clf = VotingClassifier(estimators=[('Kern SVM without pca',grid_search_svc_rbf),\n",
    "                                               ('Kern SVM ADA boost ', ada_clf_rbf),\n",
    "                                               ('Kern SVM with Bagging',bag_clf_rbf),\n",
    "                                               ('Kern SVM with pca',grid_search_svc_rbf_pca),\n",
    "                                               ('Lin SVM without pca',grid_search_lsvc),\n",
    "                                               ('Lin SVM ADA boost ', ada_clf_lsvc),\n",
    "                                               ('Lin SVM with Bagging',bag_clf_lsvc),\n",
    "                                               ('Lin SVM with pca',grid_search_lsvc),                                              \n",
    "                                               ('Rand Forest without pca',forest_model),\n",
    "                                               ('Random Forest ADA boost ', ada_clf_rf),\n",
    "                                               ('Random Forest with Bagging',bag_clf_rf),\n",
    "                                               ('Random Forest with pca',forest_model_pca),                                              \n",
    "                                               ('Dec Tree without pca',grid_search_dt),\n",
    "                                               ('Dec Tree ADA boost ', ada_clf_dt),\n",
    "                                               ('Dec Tree with Bagging',bag_clf_dt),\n",
    "                                               ('Gradient Boost Dec Tree',gb_dt),\n",
    "                                               ('Dec Tree with pca',grid_search_dt_pca),                                              \n",
    "                                               ('Log Reg without pca',grid_search_log),\n",
    "                                               ('Log Reg ADA boost ', ada_clf),\n",
    "                                               ('Log Reg with Bagging',bag_clf_logi),\n",
    "                                               ('Log Reg with pca',grid_search_log_pca),                                              \n",
    "                                               ('KNN without pca',knn),                                               \n",
    "                                               ('KNN with Bagging',bag_clf_knn),\n",
    "                                               ('KNN with pca',knn_pca)], voting = 'hard')\n",
    "soft_voting_clf.fit(X_train, Y_train)\n",
    "print('Train score: {0:0.2f}'.format(soft_voting_clf.score(X_train, Y_train)))\n",
    "print('Test score: {0:0.2f}'.format(soft_voting_clf.score(X_test, Y_test)))\n"
   ]
  }
 ],
 "metadata": {
  "anaconda-cloud": {},
  "kernelspec": {
   "display_name": "Python 3",
   "language": "python",
   "name": "python3"
  },
  "language_info": {
   "codemirror_mode": {
    "name": "ipython",
    "version": 3
   },
   "file_extension": ".py",
   "mimetype": "text/x-python",
   "name": "python",
   "nbconvert_exporter": "python",
   "pygments_lexer": "ipython3",
   "version": "3.5.4"
  }
 },
 "nbformat": 4,
 "nbformat_minor": 2
}
